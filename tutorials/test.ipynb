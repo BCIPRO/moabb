{
 "cells": [
  {
   "cell_type": "code",
   "execution_count": 4,
   "metadata": {},
   "outputs": [],
   "source": [
    "import mne\n",
    "import numpy as np\n",
    "from pyriemann.classification import MDM\n",
    "from pyriemann.estimation import Covariances\n",
    "from scipy.io import loadmat, savemat\n",
    "from sklearn.pipeline import make_pipeline\n",
    "\n",
    "from moabb.datasets import download as dl\n",
    "from moabb.datasets.base import BaseDataset\n",
    "from moabb.evaluations import WithinSessionEvaluation\n",
    "from moabb.paradigms import LeftRightImagery"
   ]
  },
  {
   "cell_type": "code",
   "execution_count": 5,
   "metadata": {},
   "outputs": [],
   "source": [
    "##############################################################################\n",
    "# Creating some Data\n",
    "# ------------------\n",
    "#\n",
    "# To illustrate the creation of a dataset class in MOABB, we first create an\n",
    "# example dataset saved in .mat file. It contains a single fake recording on\n",
    "# 8 channels lasting for 150 seconds (sampling frequency 256 Hz). We have\n",
    "# included the script that creates this dataset and have uploaded it online.\n",
    "# The fake dataset is available on the\n",
    "# `Zenodo website <https://sandbox.zenodo.org/record/369543>`_\n",
    "\n",
    "\n",
    "def create_example_dataset():\n",
    "    \"\"\"Create a fake example for a dataset\"\"\"\n",
    "    sfreq = 256\n",
    "    t_recording = 150\n",
    "    t_trial = 1  # duration of a trial\n",
    "    intertrial = 2  # time between end of a trial and the next one\n",
    "    n_chan = 8\n",
    "\n",
    "    x = np.zeros((n_chan + 1, t_recording * sfreq))  # electrodes + stimulus\n",
    "    stim = np.zeros(t_recording * sfreq)\n",
    "    t_offset = 1.0  # offset where the trials start\n",
    "    n_trials = 40\n",
    "\n",
    "    rep = np.linspace(0, 4 * t_trial, t_trial * sfreq)\n",
    "    signal = np.sin(2 * np.pi / t_trial * rep)\n",
    "    for n in range(n_trials):\n",
    "        label = n % 2 + 1  # alternate between class 0 and class 1\n",
    "        tn = int(t_offset * sfreq + n * (t_trial + intertrial) * sfreq)\n",
    "        stim[tn] = label\n",
    "        noise = 0.1 * np.random.randn(n_chan, len(signal))\n",
    "        x[:-1, tn : (tn + t_trial * sfreq)] = label * signal + noise\n",
    "    x[-1, :] = stim\n",
    "    return x, sfreq\n",
    "\n",
    "\n",
    "# Create the fake data\n",
    "for subject in [1, 2, 3]:\n",
    "    x, fs = create_example_dataset()\n",
    "    filename = \"subject_\" + str(subject).zfill(2) + \".mat\"\n",
    "    mdict = {}\n",
    "    mdict[\"x\"] = x\n",
    "    mdict[\"fs\"] = fs\n",
    "    savemat(filename, mdict)"
   ]
  },
  {
   "cell_type": "code",
   "execution_count": 12,
   "metadata": {},
   "outputs": [],
   "source": [
    "x, fs = create_example_dataset()"
   ]
  },
  {
   "cell_type": "code",
   "execution_count": 2,
   "metadata": {},
   "outputs": [],
   "source": [
    "ExampleDataset_URL = \"../my_data/\"\n",
    "\n",
    "class ExampleDataset(BaseDataset):\n",
    "    \"\"\"\n",
    "    Dataset used to exemplify the creation of a dataset class in MOABB.\n",
    "    The data samples have been simulated and has no physiological meaning\n",
    "    whatsoever.\n",
    "    \"\"\"\n",
    "\n",
    "    def __init__(self):\n",
    "        super().__init__(\n",
    "            subjects=[1],\n",
    "            sessions_per_subject=10,\n",
    "            events={\"left_hand\": 1, \"right_hand\": 2},\n",
    "            code=\"Example dataset\",\n",
    "            interval=[0, 0.75],\n",
    "            paradigm=\"imagery\",\n",
    "            doi=\"\",\n",
    "        )\n",
    "\n",
    "    def _get_single_subject_data(self, subject):\n",
    "        \"\"\"return data for a single subject\"\"\"\n",
    "        file_path_list = self.data_path(subject)\n",
    "\n",
    "        data = loadmat(file_path_list[0])\n",
    "        x = data[\"x\"]\n",
    "        fs = data[\"fs\"]\n",
    "        ch_names = [\"ch\" + str(i) for i in range(8)] + [\"stim\"]\n",
    "        ch_types = [\"eeg\" for i in range(8)] + [\"stim\"]\n",
    "        info = mne.create_info(ch_names, fs, ch_types)\n",
    "        raw = mne.io.RawArray(x, info)\n",
    "\n",
    "        sessions = {}\n",
    "        sessions[\"session_1\"] = {}\n",
    "        sessions[\"session_1\"][\"run_1\"] = raw\n",
    "        return sessions\n",
    "\n",
    "    def data_path(\n",
    "        self, subject, path=None, force_update=False, update_path=None, verbose=None\n",
    "    ):\n",
    "        \"\"\"Download the data from one subject\"\"\"\n",
    "        if subject not in self.subject_list:\n",
    "            raise (ValueError(\"Invalid subject number\"))\n",
    "\n",
    "        url = \"{:s}subject_0{:d}.mat\".format(ExampleDataset_URL, subject)\n",
    "        path = dl.data_dl(url, \"ExampleDataset\")\n",
    "        return [path]  # it has to return a list\n"
   ]
  },
  {
   "cell_type": "code",
   "execution_count": 3,
   "metadata": {},
   "outputs": [
    {
     "name": "stderr",
     "output_type": "stream",
     "text": [
      "/home/saleh/miniconda3/envs/MOABB/lib/python3.9/site-packages/moabb/datasets/download.py:53: RuntimeWarning: Setting non-standard config type: \"MNE_DATASETS_EXAMPLEDATASET_PATH\"\n",
      "  set_config(key, get_config(\"MNE_DATA\"))\n"
     ]
    },
    {
     "ename": "ValueError",
     "evalue": "Invalid URL",
     "output_type": "error",
     "traceback": [
      "\u001b[0;31m---------------------------------------------------------------------------\u001b[0m",
      "\u001b[0;31mValueError\u001b[0m                                Traceback (most recent call last)",
      "Cell \u001b[0;32mIn [3], line 4\u001b[0m\n\u001b[1;32m      1\u001b[0m dataset \u001b[39m=\u001b[39m ExampleDataset()\n\u001b[1;32m      3\u001b[0m paradigm \u001b[39m=\u001b[39m LeftRightImagery()\n\u001b[0;32m----> 4\u001b[0m X, labels, meta \u001b[39m=\u001b[39m paradigm\u001b[39m.\u001b[39;49mget_data(dataset\u001b[39m=\u001b[39;49mdataset, subjects\u001b[39m=\u001b[39;49m[\u001b[39m1\u001b[39;49m])\n\u001b[1;32m      6\u001b[0m evaluation \u001b[39m=\u001b[39m WithinSessionEvaluation(\n\u001b[1;32m      7\u001b[0m     paradigm\u001b[39m=\u001b[39mparadigm, datasets\u001b[39m=\u001b[39mdataset, overwrite\u001b[39m=\u001b[39m\u001b[39mFalse\u001b[39;00m, suffix\u001b[39m=\u001b[39m\u001b[39m\"\u001b[39m\u001b[39mnewdataset\u001b[39m\u001b[39m\"\u001b[39m\n\u001b[1;32m      8\u001b[0m )\n\u001b[1;32m      9\u001b[0m pipelines \u001b[39m=\u001b[39m {}\n",
      "File \u001b[0;32m~/miniconda3/envs/MOABB/lib/python3.9/site-packages/moabb/paradigms/base.py:234\u001b[0m, in \u001b[0;36mBaseParadigm.get_data\u001b[0;34m(self, dataset, subjects, return_epochs)\u001b[0m\n\u001b[1;32m    231\u001b[0m     message \u001b[39m=\u001b[39m \u001b[39m\"\u001b[39m\u001b[39mDataset \u001b[39m\u001b[39m{}\u001b[39;00m\u001b[39m is not valid for paradigm\u001b[39m\u001b[39m\"\u001b[39m\u001b[39m.\u001b[39mformat(dataset\u001b[39m.\u001b[39mcode)\n\u001b[1;32m    232\u001b[0m     \u001b[39mraise\u001b[39;00m \u001b[39mAssertionError\u001b[39;00m(message)\n\u001b[0;32m--> 234\u001b[0m data \u001b[39m=\u001b[39m dataset\u001b[39m.\u001b[39;49mget_data(subjects)\n\u001b[1;32m    235\u001b[0m \u001b[39mself\u001b[39m\u001b[39m.\u001b[39mprepare_process(dataset)\n\u001b[1;32m    237\u001b[0m X \u001b[39m=\u001b[39m [] \u001b[39mif\u001b[39;00m return_epochs \u001b[39melse\u001b[39;00m np\u001b[39m.\u001b[39marray([])\n",
      "File \u001b[0;32m~/miniconda3/envs/MOABB/lib/python3.9/site-packages/moabb/datasets/base.py:113\u001b[0m, in \u001b[0;36mBaseDataset.get_data\u001b[0;34m(self, subjects)\u001b[0m\n\u001b[1;32m    111\u001b[0m     \u001b[39mif\u001b[39;00m subject \u001b[39mnot\u001b[39;00m \u001b[39min\u001b[39;00m \u001b[39mself\u001b[39m\u001b[39m.\u001b[39msubject_list:\n\u001b[1;32m    112\u001b[0m         \u001b[39mraise\u001b[39;00m \u001b[39mValueError\u001b[39;00m(\u001b[39m\"\u001b[39m\u001b[39mInvalid subject \u001b[39m\u001b[39m{:d}\u001b[39;00m\u001b[39m given\u001b[39m\u001b[39m\"\u001b[39m\u001b[39m.\u001b[39mformat(subject))\n\u001b[0;32m--> 113\u001b[0m     data[subject] \u001b[39m=\u001b[39m \u001b[39mself\u001b[39;49m\u001b[39m.\u001b[39;49m_get_single_subject_data(subject)\n\u001b[1;32m    115\u001b[0m \u001b[39mreturn\u001b[39;00m data\n",
      "Cell \u001b[0;32mIn [2], line 23\u001b[0m, in \u001b[0;36mExampleDataset._get_single_subject_data\u001b[0;34m(self, subject)\u001b[0m\n\u001b[1;32m     21\u001b[0m \u001b[39mdef\u001b[39;00m \u001b[39m_get_single_subject_data\u001b[39m(\u001b[39mself\u001b[39m, subject):\n\u001b[1;32m     22\u001b[0m     \u001b[39m\"\"\"return data for a single subject\"\"\"\u001b[39;00m\n\u001b[0;32m---> 23\u001b[0m     file_path_list \u001b[39m=\u001b[39m \u001b[39mself\u001b[39;49m\u001b[39m.\u001b[39;49mdata_path(subject)\n\u001b[1;32m     25\u001b[0m     data \u001b[39m=\u001b[39m loadmat(file_path_list[\u001b[39m0\u001b[39m])\n\u001b[1;32m     26\u001b[0m     x \u001b[39m=\u001b[39m data[\u001b[39m\"\u001b[39m\u001b[39mx\u001b[39m\u001b[39m\"\u001b[39m]\n",
      "Cell \u001b[0;32mIn [2], line 46\u001b[0m, in \u001b[0;36mExampleDataset.data_path\u001b[0;34m(self, subject, path, force_update, update_path, verbose)\u001b[0m\n\u001b[1;32m     43\u001b[0m     \u001b[39mraise\u001b[39;00m (\u001b[39mValueError\u001b[39;00m(\u001b[39m\"\u001b[39m\u001b[39mInvalid subject number\u001b[39m\u001b[39m\"\u001b[39m))\n\u001b[1;32m     45\u001b[0m url \u001b[39m=\u001b[39m \u001b[39m\"\u001b[39m\u001b[39m{:s}\u001b[39;00m\u001b[39msubject_0\u001b[39m\u001b[39m{:d}\u001b[39;00m\u001b[39m.mat\u001b[39m\u001b[39m\"\u001b[39m\u001b[39m.\u001b[39mformat(ExampleDataset_URL, subject)\n\u001b[0;32m---> 46\u001b[0m path \u001b[39m=\u001b[39m dl\u001b[39m.\u001b[39;49mdata_dl(url, \u001b[39m\"\u001b[39;49m\u001b[39mExampleDataset\u001b[39;49m\u001b[39m\"\u001b[39;49m)\n\u001b[1;32m     47\u001b[0m \u001b[39mreturn\u001b[39;00m [path]\n",
      "File \u001b[0;32m<decorator-gen-607>:12\u001b[0m, in \u001b[0;36mdata_dl\u001b[0;34m(url, sign, path, force_update, verbose)\u001b[0m\n",
      "File \u001b[0;32m~/miniconda3/envs/MOABB/lib/python3.9/site-packages/moabb/datasets/download.py:137\u001b[0m, in \u001b[0;36mdata_dl\u001b[0;34m(url, sign, path, force_update, verbose)\u001b[0m\n\u001b[1;32m    135\u001b[0m path \u001b[39m=\u001b[39m get_dataset_path(sign, path)\n\u001b[1;32m    136\u001b[0m key_dest \u001b[39m=\u001b[39m \u001b[39m\"\u001b[39m\u001b[39mMNE-\u001b[39m\u001b[39m{:s}\u001b[39;00m\u001b[39m-data\u001b[39m\u001b[39m\"\u001b[39m\u001b[39m.\u001b[39mformat(sign\u001b[39m.\u001b[39mlower())\n\u001b[0;32m--> 137\u001b[0m destination \u001b[39m=\u001b[39m _url_to_local_path(url, osp\u001b[39m.\u001b[39;49mjoin(path, key_dest))\n\u001b[1;32m    139\u001b[0m \u001b[39m# Fetch the file\u001b[39;00m\n\u001b[1;32m    140\u001b[0m \u001b[39mif\u001b[39;00m \u001b[39mnot\u001b[39;00m osp\u001b[39m.\u001b[39misfile(destination) \u001b[39mor\u001b[39;00m force_update:\n",
      "File \u001b[0;32m~/miniconda3/envs/MOABB/lib/python3.9/site-packages/mne/utils/fetching.py:16\u001b[0m, in \u001b[0;36m_url_to_local_path\u001b[0;34m(url, path)\u001b[0m\n\u001b[1;32m     14\u001b[0m \u001b[39m# First char should be '/', and it needs to be discarded\u001b[39;00m\n\u001b[1;32m     15\u001b[0m \u001b[39mif\u001b[39;00m \u001b[39mlen\u001b[39m(destination) \u001b[39m<\u001b[39m \u001b[39m2\u001b[39m \u001b[39mor\u001b[39;00m destination[\u001b[39m0\u001b[39m] \u001b[39m!=\u001b[39m \u001b[39m'\u001b[39m\u001b[39m/\u001b[39m\u001b[39m'\u001b[39m:\n\u001b[0;32m---> 16\u001b[0m     \u001b[39mraise\u001b[39;00m \u001b[39mValueError\u001b[39;00m(\u001b[39m'\u001b[39m\u001b[39mInvalid URL\u001b[39m\u001b[39m'\u001b[39m)\n\u001b[1;32m     17\u001b[0m destination \u001b[39m=\u001b[39m os\u001b[39m.\u001b[39mpath\u001b[39m.\u001b[39mjoin(path, request\u001b[39m.\u001b[39murl2pathname(destination)[\u001b[39m1\u001b[39m:])\n\u001b[1;32m     18\u001b[0m \u001b[39mreturn\u001b[39;00m destination\n",
      "\u001b[0;31mValueError\u001b[0m: Invalid URL"
     ]
    }
   ],
   "source": [
    "dataset = ExampleDataset()\n",
    "\n",
    "paradigm = LeftRightImagery()\n",
    "X, labels, meta = paradigm.get_data(dataset=dataset, subjects=[1])\n",
    "\n",
    "evaluation = WithinSessionEvaluation(\n",
    "    paradigm=paradigm, datasets=dataset, overwrite=False, suffix=\"newdataset\"\n",
    ")\n",
    "pipelines = {}\n",
    "pipelines[\"MDM\"] = make_pipeline(Covariances(\"oas\"), MDM(metric=\"riemann\"))\n",
    "scores = evaluation.process(pipelines)\n",
    "\n",
    "print(scores)"
   ]
  },
  {
   "cell_type": "code",
   "execution_count": null,
   "metadata": {},
   "outputs": [],
   "source": []
  }
 ],
 "metadata": {
  "kernelspec": {
   "display_name": "Python 3.9.15 ('MOABB')",
   "language": "python",
   "name": "python3"
  },
  "language_info": {
   "codemirror_mode": {
    "name": "ipython",
    "version": 3
   },
   "file_extension": ".py",
   "mimetype": "text/x-python",
   "name": "python",
   "nbconvert_exporter": "python",
   "pygments_lexer": "ipython3",
   "version": "3.9.15"
  },
  "orig_nbformat": 4,
  "vscode": {
   "interpreter": {
    "hash": "c546009582e08e89d88fd9a47a8a61acb65a5551ab6983f968a0b49eff21bfc8"
   }
  }
 },
 "nbformat": 4,
 "nbformat_minor": 2
}
